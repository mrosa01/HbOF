{
 "cells": [
  {
   "cell_type": "markdown",
   "id": "5dcc6353",
   "metadata": {},
   "source": [
    "### Resource-bounded Fraud Detection (Luis Torgo)\n",
    "\n",
    "https://www.dcc.fc.up.pt/~ltorgo/Papers/Tor07.pdf"
   ]
  },
  {
   "cell_type": "markdown",
   "id": "692ebf82",
   "metadata": {},
   "source": [
    "**Abstract.** This paper describes an approach to fraud detection targeted at applications where this task is followed by a posterior human analysis of the signaled frauds. This is a frequent setup on fraud detection applications (e.g. credit card misuse, telecom fraud, etc.). In real world applications this human inspection is usually constrained by limited resources. In this context, standard fraud detection methods that simply tag each case as being (or not) a possible fraud are not very useful if the number of tagged cases surpasses the available resources. A much more useful approach is to produce a ranking of fraud that can be used to optimize the available inspection resources by first addressing the cases with higher rank. In this paper we propose a method that produces such ranking. The method is based on the output of standard agglomerative hierarchical clustering algorithms, resulting in no significant additional computational costs. Our comparisons with a state of the art method provide convincing evidence of the competitiveness of our proposal."
   ]
  },
  {
   "cell_type": "code",
   "execution_count": 1,
   "id": "4891b4c5",
   "metadata": {},
   "outputs": [],
   "source": [
    "%matplotlib inline\n",
    "import matplotlib.pyplot as plt\n",
    "from collections import defaultdict\n",
    "\n",
    "from scipy.cluster.hierarchy import linkage, dendrogram\n",
    "from scipy.spatial.distance import pdist\n",
    "from sklearn.decomposition import PCA\n",
    "import pandas as pd\n",
    "import numpy as np"
   ]
  },
  {
   "cell_type": "code",
   "execution_count": 175,
   "id": "1f879e7f",
   "metadata": {},
   "outputs": [],
   "source": [
    "np.set_printoptions(suppress=True)"
   ]
  },
  {
   "cell_type": "code",
   "execution_count": 2,
   "id": "d17d6db7",
   "metadata": {},
   "outputs": [
    {
     "data": {
      "text/html": [
       "<div>\n",
       "<style scoped>\n",
       "    .dataframe tbody tr th:only-of-type {\n",
       "        vertical-align: middle;\n",
       "    }\n",
       "\n",
       "    .dataframe tbody tr th {\n",
       "        vertical-align: top;\n",
       "    }\n",
       "\n",
       "    .dataframe thead th {\n",
       "        text-align: right;\n",
       "    }\n",
       "</style>\n",
       "<table border=\"1\" class=\"dataframe\">\n",
       "  <thead>\n",
       "    <tr style=\"text-align: right;\">\n",
       "      <th></th>\n",
       "      <th>crim</th>\n",
       "      <th>zn</th>\n",
       "      <th>indus</th>\n",
       "      <th>chas</th>\n",
       "      <th>nox</th>\n",
       "      <th>rm</th>\n",
       "      <th>age</th>\n",
       "      <th>dis</th>\n",
       "      <th>rad</th>\n",
       "      <th>tax</th>\n",
       "      <th>ptratio</th>\n",
       "      <th>b</th>\n",
       "      <th>lstat</th>\n",
       "      <th>medv</th>\n",
       "    </tr>\n",
       "  </thead>\n",
       "  <tbody>\n",
       "    <tr>\n",
       "      <th>0</th>\n",
       "      <td>0.00632</td>\n",
       "      <td>18.0</td>\n",
       "      <td>2.31</td>\n",
       "      <td>0</td>\n",
       "      <td>0.538</td>\n",
       "      <td>6.575</td>\n",
       "      <td>65.2</td>\n",
       "      <td>4.0900</td>\n",
       "      <td>1</td>\n",
       "      <td>296</td>\n",
       "      <td>15.3</td>\n",
       "      <td>396.90</td>\n",
       "      <td>4.98</td>\n",
       "      <td>24.0</td>\n",
       "    </tr>\n",
       "    <tr>\n",
       "      <th>1</th>\n",
       "      <td>0.02731</td>\n",
       "      <td>0.0</td>\n",
       "      <td>7.07</td>\n",
       "      <td>0</td>\n",
       "      <td>0.469</td>\n",
       "      <td>6.421</td>\n",
       "      <td>78.9</td>\n",
       "      <td>4.9671</td>\n",
       "      <td>2</td>\n",
       "      <td>242</td>\n",
       "      <td>17.8</td>\n",
       "      <td>396.90</td>\n",
       "      <td>9.14</td>\n",
       "      <td>21.6</td>\n",
       "    </tr>\n",
       "    <tr>\n",
       "      <th>2</th>\n",
       "      <td>0.02729</td>\n",
       "      <td>0.0</td>\n",
       "      <td>7.07</td>\n",
       "      <td>0</td>\n",
       "      <td>0.469</td>\n",
       "      <td>7.185</td>\n",
       "      <td>61.1</td>\n",
       "      <td>4.9671</td>\n",
       "      <td>2</td>\n",
       "      <td>242</td>\n",
       "      <td>17.8</td>\n",
       "      <td>392.83</td>\n",
       "      <td>4.03</td>\n",
       "      <td>34.7</td>\n",
       "    </tr>\n",
       "    <tr>\n",
       "      <th>3</th>\n",
       "      <td>0.03237</td>\n",
       "      <td>0.0</td>\n",
       "      <td>2.18</td>\n",
       "      <td>0</td>\n",
       "      <td>0.458</td>\n",
       "      <td>6.998</td>\n",
       "      <td>45.8</td>\n",
       "      <td>6.0622</td>\n",
       "      <td>3</td>\n",
       "      <td>222</td>\n",
       "      <td>18.7</td>\n",
       "      <td>394.63</td>\n",
       "      <td>2.94</td>\n",
       "      <td>33.4</td>\n",
       "    </tr>\n",
       "    <tr>\n",
       "      <th>4</th>\n",
       "      <td>0.06905</td>\n",
       "      <td>0.0</td>\n",
       "      <td>2.18</td>\n",
       "      <td>0</td>\n",
       "      <td>0.458</td>\n",
       "      <td>7.147</td>\n",
       "      <td>54.2</td>\n",
       "      <td>6.0622</td>\n",
       "      <td>3</td>\n",
       "      <td>222</td>\n",
       "      <td>18.7</td>\n",
       "      <td>396.90</td>\n",
       "      <td>5.33</td>\n",
       "      <td>36.2</td>\n",
       "    </tr>\n",
       "  </tbody>\n",
       "</table>\n",
       "</div>"
      ],
      "text/plain": [
       "      crim    zn  indus  chas    nox     rm   age     dis  rad  tax  ptratio  \\\n",
       "0  0.00632  18.0   2.31     0  0.538  6.575  65.2  4.0900    1  296     15.3   \n",
       "1  0.02731   0.0   7.07     0  0.469  6.421  78.9  4.9671    2  242     17.8   \n",
       "2  0.02729   0.0   7.07     0  0.469  7.185  61.1  4.9671    2  242     17.8   \n",
       "3  0.03237   0.0   2.18     0  0.458  6.998  45.8  6.0622    3  222     18.7   \n",
       "4  0.06905   0.0   2.18     0  0.458  7.147  54.2  6.0622    3  222     18.7   \n",
       "\n",
       "        b  lstat  medv  \n",
       "0  396.90   4.98  24.0  \n",
       "1  396.90   9.14  21.6  \n",
       "2  392.83   4.03  34.7  \n",
       "3  394.63   2.94  33.4  \n",
       "4  396.90   5.33  36.2  "
      ]
     },
     "execution_count": 2,
     "metadata": {},
     "output_type": "execute_result"
    }
   ],
   "source": [
    "df = pd.read_csv('boston.csv')\n",
    "df.head()"
   ]
  },
  {
   "cell_type": "code",
   "execution_count": 3,
   "id": "cf176302",
   "metadata": {},
   "outputs": [],
   "source": [
    "X = df.drop(columns='medv')"
   ]
  },
  {
   "cell_type": "code",
   "execution_count": 4,
   "id": "c7c9a31b",
   "metadata": {},
   "outputs": [],
   "source": [
    "d = pdist(X, metric='euclidean')"
   ]
  },
  {
   "cell_type": "code",
   "execution_count": 5,
   "id": "5308c7f3",
   "metadata": {},
   "outputs": [
    {
     "data": {
      "text/plain": [
       "(505, 4)"
      ]
     },
     "execution_count": 5,
     "metadata": {},
     "output_type": "execute_result"
    }
   ],
   "source": [
    "# A by 4 matrix Z is returned. At the i-th iteration, clusters with indices Z[i, 0] and Z[i, 1] \n",
    "# are combined to form cluster n+i. A cluster with an index less than n corresponds to one of the \n",
    "# n original observations. The distance between clusters Z[i, 0] and Z[i, 1] is given by Z[i, 2]. \n",
    "# The fourth value Z[i, 3] represents the number of original observations in the newly formed \n",
    "# cluster.\n",
    "\n",
    "Z = linkage(d, method='ward')\n",
    "Z.shape"
   ]
  },
  {
   "cell_type": "code",
   "execution_count": 6,
   "id": "e6983d3d",
   "metadata": {},
   "outputs": [
    {
     "data": {
      "image/png": "[encoded data removed]",
      "text/plain": [
       "<Figure size 640x480 with 1 Axes>"
      ]
     },
     "metadata": {},
     "output_type": "display_data"
    }
   ],
   "source": [
    "fig, ax = plt.subplots()\n",
    "dendrogram(Z, ax=ax);"
   ]
  },
  {
   "cell_type": "code",
   "execution_count": 7,
   "id": "f24d5998",
   "metadata": {},
   "outputs": [],
   "source": [
    "def get_instances(i, c):\n",
    "    if i < N:\n",
    "        return [i]\n",
    "    else:\n",
    "        return c[i]\n",
    "    \n",
    "def OF(g, i, N):\n",
    "    return (1 - len(g)/N) * i/N    "
   ]
  },
  {
   "cell_type": "code",
   "execution_count": 8,
   "id": "c06ec8d2",
   "metadata": {},
   "outputs": [],
   "source": [
    "outlier_factor = defaultdict(list)\n",
    "clusters = defaultdict(list)\n",
    "N = X.shape[0]\n",
    "nrows = Z.shape[0]\n",
    "cluster_idx = N\n",
    "\n",
    "for i in range(nrows):\n",
    "    i1, i2, cluster_size = Z[i, [0, 1, 3]].astype(np.int64)\n",
    "    g1 = get_instances(i1, clusters)\n",
    "    g2 = get_instances(i2, clusters)\n",
    "    clusters[cluster_idx].extend(g1)\n",
    "    clusters[cluster_idx].extend(g2)\n",
    "    \n",
    "    assert cluster_size == len(clusters[cluster_idx])\n",
    "    \n",
    "    gs, gl = (g1, g2) if len(g1) < len(g2) else (g2, g1)\n",
    "    \n",
    "    score = OF(gs, i, N)\n",
    "    for idx in gs:\n",
    "        outlier_factor[idx].append(score)\n",
    "    for idx in gl:\n",
    "        outlier_factor[idx].append(0)\n",
    "\n",
    "    cluster_idx += 1"
   ]
  },
  {
   "cell_type": "code",
   "execution_count": 9,
   "id": "3c7ffd27",
   "metadata": {},
   "outputs": [],
   "source": [
    "# OF(x) = max OF(g) where g ∈ Gx (Gx is the set of groups in the dendogram to which x belongs)\n",
    "scores = {}\n",
    "for k, v in outlier_factor.items():\n",
    "    scores[k] = np.max(v)\n",
    "    \n",
    "df_scores = pd.DataFrame({'Score': scores.values()}, index=scores.keys())"
   ]
  },
  {
   "cell_type": "code",
   "execution_count": 10,
   "id": "ffe0b7fc",
   "metadata": {},
   "outputs": [],
   "source": [
    "pca = PCA(n_components=2)\n",
    "X_pca = pca.fit_transform(X)"
   ]
  },
  {
   "cell_type": "code",
   "execution_count": 11,
   "id": "fadac769",
   "metadata": {},
   "outputs": [],
   "source": [
    "prop_var = np.sum(pca.explained_variance_ratio_) * 100"
   ]
  },
  {
   "cell_type": "code",
   "execution_count": 13,
   "id": "2f37c3ea",
   "metadata": {},
   "outputs": [
    {
     "data": {
      "image/png": "[encoded data removed]",
      "text/plain": [
       "<Figure size 640x480 with 1 Axes>"
      ]
     },
     "metadata": {},
     "output_type": "display_data"
    }
   ],
   "source": [
    "outliers = df_scores.sort_values(by='Score', ascending=False).head(25).index.to_list()\n",
    "\n",
    "plt.scatter(X_pca[:, 0], X_pca[:, 1], s=2, c='black')\n",
    "plt.scatter(X_pca[outliers, 0], X_pca[outliers, 1],  c='red', marker='*')\n",
    "plt.xlabel(f'Comp.1\\nProp.Var.={prop_var:.1f}%')\n",
    "plt.ylabel('Comp.2')\n",
    "plt.title('OFh');"
   ]
  }
 ],
 "metadata": {
  "kernelspec": {
   "display_name": "Python 3 (ipykernel)",
   "language": "python",
   "name": "python3"
  },
  "language_info": {
   "codemirror_mode": {
    "name": "ipython",
    "version": 3
   },
   "file_extension": ".py",
   "mimetype": "text/x-python",
   "name": "python",
   "nbconvert_exporter": "python",
   "pygments_lexer": "ipython3",
   "version": "3.7.16"
  }
 },
 "nbformat": 4,
 "nbformat_minor": 5
}
